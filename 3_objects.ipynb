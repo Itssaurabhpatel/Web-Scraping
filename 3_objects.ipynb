{
 "cells": [
  {
   "cell_type": "code",
   "execution_count": null,
   "metadata": {},
   "outputs": [],
   "source": [
    "# Objects: it is a  way that can helps to extaracting  data from a website.\n",
    "\n",
    "# classes-\n",
    "# 1. Tag\n",
    "# 2. NavigableString\n",
    "# 3. BeautifulSoup\n",
    "# 4. Comments\n",
    "\n",
    "# ------------------------------------------\n",
    "\n",
    "import requests\n",
    "from bs4 import BeautifulSoup \n",
    "\n",
    "web = requests.get('https://www.tutorialsfreak.com/')\n",
    "\n",
    "web.status_code\n",
    "\n",
    "soup = BeautifulSoup(web.content,\"html.parser\")\n",
    "\n",
    "# classes\n",
    "\n",
    "# 1. Tag\n",
    "# soup.tagName\n",
    "tag = soup.p\n",
    "print(tag)\n",
    "\n",
    "# 2. NavigableString :inside the tag used string\n",
    "# soup.tagName.string\n",
    "string = soup.p.string\n",
    "print(string)\n",
    "\n",
    "string = soup.h1.string\n",
    "string\n",
    "\n",
    "# 3. BeautifulSoup: it helps to return particular object (fetching data from URL)\n",
    "soup = BeautifulSoup(web.content,\"html.parser\")\n",
    "soup.head\n",
    "\n",
    "# Some functions\n",
    "# a. find: return first \n",
    "soup.find(\"p\")\n",
    "\n",
    "# b. find_all: reteurn all\n",
    "soup.find_all(\"p\")\n",
    "\n",
    "# 4. Comment\n",
    "comm = soup.p.string\n",
    "soup.p.prettify"
   ]
  }
 ],
 "metadata": {
  "language_info": {
   "name": "python"
  }
 },
 "nbformat": 4,
 "nbformat_minor": 2
}
